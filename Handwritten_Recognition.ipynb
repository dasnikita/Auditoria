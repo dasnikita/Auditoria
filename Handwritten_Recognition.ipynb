{
  "cells": [
    {
      "cell_type": "markdown",
      "metadata": {
        "id": "view-in-github",
        "colab_type": "text"
      },
      "source": [
        "<a href=\"https://colab.research.google.com/github/dasnikita/Data-Science-work/blob/main/Handwritten_Recognition.ipynb\" target=\"_parent\"><img src=\"https://colab.research.google.com/assets/colab-badge.svg\" alt=\"Open In Colab\"/></a>"
      ]
    },
    {
      "cell_type": "markdown",
      "metadata": {
        "id": "S0q9a0jTJwJr",
        "outputId": "a22aaf45-a0fa-4006-f360-764da8a6a3e2"
      },
      "source": [
        "! mkdir ~/.kaggle\n",
        "! cp kaggle.json ~/.kaggle/\n",
        "! chmod 600 ~/.kaggle/kaggle.json\n",
        "! kaggle datasets download dhruvildave/english-handwritten-characters-dataset"
      ]
    },
    {
      "cell_type": "markdown",
      "metadata": {
        "id": "4zvhET7XXRuZ",
        "outputId": "80ec629c-6690-479a-8eb3-cafa2a76a778"
      },
      "source": [
        "!unzip \"/content/english-handwritten-characters-dataset.zip\" -d \"/content/data\""
      ]
    },
    {
      "cell_type": "code",
      "source": [
        "!nvidia-smi"
      ],
      "metadata": {
        "colab": {
          "base_uri": "https://localhost:8080/"
        },
        "id": "OkvP8_sOwkRe",
        "outputId": "32e1529a-e31a-4299-8011-9d42ecf2f4c1"
      },
      "execution_count": 2,
      "outputs": [
        {
          "output_type": "stream",
          "name": "stdout",
          "text": [
            "Mon Jan 10 08:52:54 2022       \n",
            "+-----------------------------------------------------------------------------+\n",
            "| NVIDIA-SMI 495.44       Driver Version: 460.32.03    CUDA Version: 11.2     |\n",
            "|-------------------------------+----------------------+----------------------+\n",
            "| GPU  Name        Persistence-M| Bus-Id        Disp.A | Volatile Uncorr. ECC |\n",
            "| Fan  Temp  Perf  Pwr:Usage/Cap|         Memory-Usage | GPU-Util  Compute M. |\n",
            "|                               |                      |               MIG M. |\n",
            "|===============================+======================+======================|\n",
            "|   0  Tesla K80           Off  | 00000000:00:04.0 Off |                    0 |\n",
            "| N/A   39C    P8    27W / 149W |      0MiB / 11441MiB |      0%      Default |\n",
            "|                               |                      |                  N/A |\n",
            "+-------------------------------+----------------------+----------------------+\n",
            "                                                                               \n",
            "+-----------------------------------------------------------------------------+\n",
            "| Processes:                                                                  |\n",
            "|  GPU   GI   CI        PID   Type   Process name                  GPU Memory |\n",
            "|        ID   ID                                                   Usage      |\n",
            "|=============================================================================|\n",
            "|  No running processes found                                                 |\n",
            "+-----------------------------------------------------------------------------+\n"
          ]
        }
      ]
    },
    {
      "cell_type": "markdown",
      "source": [
        "**TechVidvan**"
      ],
      "metadata": {
        "id": "oIWU036KMoE1"
      }
    },
    {
      "cell_type": "code",
      "execution_count": 1,
      "metadata": {
        "id": "BILxg5vCJ64Y"
      },
      "outputs": [],
      "source": [
        "#importing libraries\n",
        "import tensorflow as tf\n",
        "from tensorflow import keras\n",
        "from tensorflow.keras import layers \n",
        "from tensorflow.keras.models import Sequential\n",
        "from tensorflow.keras.layers import Dense,Flatten,Conv2D, MaxPooling2D, MaxPool2D, Dropout\n",
        "import pandas as pd\n",
        "import numpy as np\n",
        "import matplotlib.pyplot as plt\n",
        "from sklearn.model_selection import train_test_split\n",
        "from sklearn.preprocessing import LabelEncoder \n",
        "import os\n",
        "from tensorflow.keras.preprocessing.image import ImageDataGenerator\n",
        "\n",
        "\n",
        "%matplotlib inline"
      ]
    },
    {
      "cell_type": "code",
      "source": [
        "from google.colab import drive\n",
        "drive.mount('/content/drive')"
      ],
      "metadata": {
        "colab": {
          "base_uri": "https://localhost:8080/"
        },
        "id": "DHQGYhx3pqRW",
        "outputId": "be8d790f-7b99-4cfb-991e-5d1b5dbfa877"
      },
      "execution_count": 4,
      "outputs": [
        {
          "output_type": "stream",
          "name": "stdout",
          "text": [
            "Mounted at /content/drive\n"
          ]
        }
      ]
    },
    {
      "cell_type": "code",
      "source": [
        "!unzip \"/content/drive/MyDrive/Handwritten/Img.zip\" -d \"/content/Images\""
      ],
      "metadata": {
        "id": "pJZpT1Y1tWIh"
      },
      "execution_count": null,
      "outputs": []
    },
    {
      "cell_type": "code",
      "execution_count": 6,
      "metadata": {
        "id": "y5OyxqgnUx4w"
      },
      "outputs": [],
      "source": [
        "#setting path for home directory\n",
        "home_dir = r\"/content/drive/MyDrive/Handwritten\""
      ]
    },
    {
      "cell_type": "code",
      "execution_count": 7,
      "metadata": {
        "colab": {
          "base_uri": "https://localhost:8080/",
          "height": 206
        },
        "id": "q4THJ3dv2I39",
        "outputId": "6cf947a7-cb95-4eff-faf2-0da01f0a8fac"
      },
      "outputs": [
        {
          "output_type": "execute_result",
          "data": {
            "text/html": [
              "\n",
              "  <div id=\"df-c2cf1f54-b579-482e-909c-0bc91d5975cd\">\n",
              "    <div class=\"colab-df-container\">\n",
              "      <div>\n",
              "<style scoped>\n",
              "    .dataframe tbody tr th:only-of-type {\n",
              "        vertical-align: middle;\n",
              "    }\n",
              "\n",
              "    .dataframe tbody tr th {\n",
              "        vertical-align: top;\n",
              "    }\n",
              "\n",
              "    .dataframe thead th {\n",
              "        text-align: right;\n",
              "    }\n",
              "</style>\n",
              "<table border=\"1\" class=\"dataframe\">\n",
              "  <thead>\n",
              "    <tr style=\"text-align: right;\">\n",
              "      <th></th>\n",
              "      <th>image</th>\n",
              "      <th>label</th>\n",
              "    </tr>\n",
              "  </thead>\n",
              "  <tbody>\n",
              "    <tr>\n",
              "      <th>0</th>\n",
              "      <td>Img/img001-001.png</td>\n",
              "      <td>0</td>\n",
              "    </tr>\n",
              "    <tr>\n",
              "      <th>1</th>\n",
              "      <td>Img/img001-002.png</td>\n",
              "      <td>0</td>\n",
              "    </tr>\n",
              "    <tr>\n",
              "      <th>2</th>\n",
              "      <td>Img/img001-003.png</td>\n",
              "      <td>0</td>\n",
              "    </tr>\n",
              "    <tr>\n",
              "      <th>3</th>\n",
              "      <td>Img/img001-004.png</td>\n",
              "      <td>0</td>\n",
              "    </tr>\n",
              "    <tr>\n",
              "      <th>4</th>\n",
              "      <td>Img/img001-005.png</td>\n",
              "      <td>0</td>\n",
              "    </tr>\n",
              "  </tbody>\n",
              "</table>\n",
              "</div>\n",
              "      <button class=\"colab-df-convert\" onclick=\"convertToInteractive('df-c2cf1f54-b579-482e-909c-0bc91d5975cd')\"\n",
              "              title=\"Convert this dataframe to an interactive table.\"\n",
              "              style=\"display:none;\">\n",
              "        \n",
              "  <svg xmlns=\"http://www.w3.org/2000/svg\" height=\"24px\"viewBox=\"0 0 24 24\"\n",
              "       width=\"24px\">\n",
              "    <path d=\"M0 0h24v24H0V0z\" fill=\"none\"/>\n",
              "    <path d=\"M18.56 5.44l.94 2.06.94-2.06 2.06-.94-2.06-.94-.94-2.06-.94 2.06-2.06.94zm-11 1L8.5 8.5l.94-2.06 2.06-.94-2.06-.94L8.5 2.5l-.94 2.06-2.06.94zm10 10l.94 2.06.94-2.06 2.06-.94-2.06-.94-.94-2.06-.94 2.06-2.06.94z\"/><path d=\"M17.41 7.96l-1.37-1.37c-.4-.4-.92-.59-1.43-.59-.52 0-1.04.2-1.43.59L10.3 9.45l-7.72 7.72c-.78.78-.78 2.05 0 2.83L4 21.41c.39.39.9.59 1.41.59.51 0 1.02-.2 1.41-.59l7.78-7.78 2.81-2.81c.8-.78.8-2.07 0-2.86zM5.41 20L4 18.59l7.72-7.72 1.47 1.35L5.41 20z\"/>\n",
              "  </svg>\n",
              "      </button>\n",
              "      \n",
              "  <style>\n",
              "    .colab-df-container {\n",
              "      display:flex;\n",
              "      flex-wrap:wrap;\n",
              "      gap: 12px;\n",
              "    }\n",
              "\n",
              "    .colab-df-convert {\n",
              "      background-color: #E8F0FE;\n",
              "      border: none;\n",
              "      border-radius: 50%;\n",
              "      cursor: pointer;\n",
              "      display: none;\n",
              "      fill: #1967D2;\n",
              "      height: 32px;\n",
              "      padding: 0 0 0 0;\n",
              "      width: 32px;\n",
              "    }\n",
              "\n",
              "    .colab-df-convert:hover {\n",
              "      background-color: #E2EBFA;\n",
              "      box-shadow: 0px 1px 2px rgba(60, 64, 67, 0.3), 0px 1px 3px 1px rgba(60, 64, 67, 0.15);\n",
              "      fill: #174EA6;\n",
              "    }\n",
              "\n",
              "    [theme=dark] .colab-df-convert {\n",
              "      background-color: #3B4455;\n",
              "      fill: #D2E3FC;\n",
              "    }\n",
              "\n",
              "    [theme=dark] .colab-df-convert:hover {\n",
              "      background-color: #434B5C;\n",
              "      box-shadow: 0px 1px 3px 1px rgba(0, 0, 0, 0.15);\n",
              "      filter: drop-shadow(0px 1px 2px rgba(0, 0, 0, 0.3));\n",
              "      fill: #FFFFFF;\n",
              "    }\n",
              "  </style>\n",
              "\n",
              "      <script>\n",
              "        const buttonEl =\n",
              "          document.querySelector('#df-c2cf1f54-b579-482e-909c-0bc91d5975cd button.colab-df-convert');\n",
              "        buttonEl.style.display =\n",
              "          google.colab.kernel.accessAllowed ? 'block' : 'none';\n",
              "\n",
              "        async function convertToInteractive(key) {\n",
              "          const element = document.querySelector('#df-c2cf1f54-b579-482e-909c-0bc91d5975cd');\n",
              "          const dataTable =\n",
              "            await google.colab.kernel.invokeFunction('convertToInteractive',\n",
              "                                                     [key], {});\n",
              "          if (!dataTable) return;\n",
              "\n",
              "          const docLinkHtml = 'Like what you see? Visit the ' +\n",
              "            '<a target=\"_blank\" href=https://colab.research.google.com/notebooks/data_table.ipynb>data table notebook</a>'\n",
              "            + ' to learn more about interactive tables.';\n",
              "          element.innerHTML = '';\n",
              "          dataTable['output_type'] = 'display_data';\n",
              "          await google.colab.output.renderOutput(dataTable, element);\n",
              "          const docLink = document.createElement('div');\n",
              "          docLink.innerHTML = docLinkHtml;\n",
              "          element.appendChild(docLink);\n",
              "        }\n",
              "      </script>\n",
              "    </div>\n",
              "  </div>\n",
              "  "
            ],
            "text/plain": [
              "                image label\n",
              "0  Img/img001-001.png     0\n",
              "1  Img/img001-002.png     0\n",
              "2  Img/img001-003.png     0\n",
              "3  Img/img001-004.png     0\n",
              "4  Img/img001-005.png     0"
            ]
          },
          "metadata": {},
          "execution_count": 7
        }
      ],
      "source": [
        "df = pd.read_csv(home_dir + r'/english.csv')\n",
        "df.head()"
      ]
    },
    {
      "cell_type": "code",
      "source": [
        "temp_path = ['/content/Images/'+x for x in df['image'].values]\n",
        "df['image'] = temp_path"
      ],
      "metadata": {
        "id": "5tu6ejdm0px0"
      },
      "execution_count": 8,
      "outputs": []
    },
    {
      "cell_type": "code",
      "source": [
        "#acessing meta data provided in the .csv file\n",
        "from sklearn.preprocessing import MinMaxScaler\n",
        "x = df['image']\n",
        "y = df['label']\n",
        "enc = LabelEncoder()  # encoding classes\n",
        "enc.fit(y)\n",
        "y_encoded = enc.transform(y)"
      ],
      "metadata": {
        "id": "OLqxKO3htKdd"
      },
      "execution_count": 10,
      "outputs": []
    },
    {
      "cell_type": "code",
      "source": [
        "X_train, X_test, Y_train, Y_test = train_test_split(x, y_encoded, test_size = 0.2, random_state = 1)"
      ],
      "metadata": {
        "id": "7ky2ikBluJ8x"
      },
      "execution_count": 11,
      "outputs": []
    },
    {
      "cell_type": "code",
      "source": [
        "traindf = pd.DataFrame(data=list(zip(X_train,Y_train)),columns=['path','label'])\n",
        "testdf = pd.DataFrame(data=list(zip(X_test,Y_test)),columns=['path','label'])"
      ],
      "metadata": {
        "id": "wa-78pJ4x46_"
      },
      "execution_count": 12,
      "outputs": []
    },
    {
      "cell_type": "code",
      "source": [
        "traindf['label'] = traindf['label'].astype(str)\n",
        "testdf['label'] = testdf['label'].astype(str)"
      ],
      "metadata": {
        "id": "_zEVbZDq1bLn"
      },
      "execution_count": 13,
      "outputs": []
    },
    {
      "cell_type": "code",
      "source": [
        "# using VGG16 model in tensorflow keras\n",
        "tf.keras.backend.clear_session()\n",
        "IMAGE_SIZE = [224,224]\n",
        "input_layer = tf.keras.layers.Input(shape=(224,224,3))\n",
        "vgg = tf.keras.applications.vgg16.VGG16(input_tensor=input_layer, weights='imagenet', include_top=False)\n",
        "for layers in vgg.layers:\n",
        "  layers.trainable = False\n"
      ],
      "metadata": {
        "id": "Gha75s-Bn1q1",
        "colab": {
          "base_uri": "https://localhost:8080/"
        },
        "outputId": "21cbea16-bdd2-4368-f5ff-adb662fcdd8e"
      },
      "execution_count": 15,
      "outputs": [
        {
          "output_type": "stream",
          "name": "stdout",
          "text": [
            "Downloading data from https://storage.googleapis.com/tensorflow/keras-applications/vgg16/vgg16_weights_tf_dim_ordering_tf_kernels_notop.h5\n",
            "58892288/58889256 [==============================] - 0s 0us/step\n",
            "58900480/58889256 [==============================] - 0s 0us/step\n"
          ]
        }
      ]
    },
    {
      "cell_type": "code",
      "source": [
        "#using ImageDataGenerator and flow_from_dataframe for generating image data\n",
        "datagen = keras.preprocessing.image.ImageDataGenerator(rescale=1/255)\n",
        "train = datagen.flow_from_dataframe(dataframe=traindf,x_col = 'path',y_col='label',color_mode='rgb',target_size=IMAGE_SIZE,class_mode=\"categorical\")\n",
        "test = datagen.flow_from_dataframe(dataframe=testdf,x_col = 'path',y_col='label',color_mode='rgb',target_size=IMAGE_SIZE, class_mode=\"categorical\")"
      ],
      "metadata": {
        "id": "B2SrNVnf0bDE",
        "colab": {
          "base_uri": "https://localhost:8080/"
        },
        "outputId": "1b1c3c96-ee12-420c-abe0-e251e8529f6a"
      },
      "execution_count": 16,
      "outputs": [
        {
          "output_type": "stream",
          "name": "stdout",
          "text": [
            "Found 2728 validated image filenames belonging to 62 classes.\n",
            "Found 682 validated image filenames belonging to 62 classes.\n"
          ]
        }
      ]
    },
    {
      "cell_type": "code",
      "source": [
        "# defining our model\n",
        "conv_layer = keras.layers.Conv2D(filters=64, kernel_size=(3,3))(vgg.output)\n",
        "maxpool_layer = keras.layers.MaxPool2D(pool_size=(2, 2), strides=None, padding=\"valid\")(conv_layer)\n",
        "flatten = keras.layers.Flatten()(maxpool_layer)\n",
        "fc1 = keras.layers.Dense(1024,activation='relu')(flatten)\n",
        "fc2 = keras.layers.Dense(768,activation='relu')(fc1)\n",
        "fc3 = keras.layers.Dense(512,activation='relu')(fc1)\n",
        "fc4 = keras.layers.Dense(256,activation='relu')(fc3)\n",
        "fc5 = keras.layers.Dense(128,activation='relu')(fc4)\n",
        "fc6 = keras.layers.Dense(112,activation='relu')(fc5)\n",
        "output = keras.layers.Dense(62,activation='softmax')(fc6)"
      ],
      "metadata": {
        "id": "GfRRk4Dy2CIV"
      },
      "execution_count": 17,
      "outputs": []
    },
    {
      "cell_type": "code",
      "source": [
        "model1 = keras.models.Model(vgg.input,output)\n",
        "\n",
        "model1.compile(\n",
        "    loss='categorical_crossentropy',\n",
        "    optimizer='adam',\n",
        "    metrics=['accuracy']\n",
        ")\n",
        "model1.fit(train, validation_data=test,epochs = 10,batch_size = 128)"
      ],
      "metadata": {
        "colab": {
          "base_uri": "https://localhost:8080/"
        },
        "id": "5MhCBn7D2ppa",
        "outputId": "5ba796cb-4c82-4f4d-e6bd-7e504dc9499e"
      },
      "execution_count": 18,
      "outputs": [
        {
          "output_type": "stream",
          "name": "stdout",
          "text": [
            "Epoch 1/10\n",
            "86/86 [==============================] - 87s 742ms/step - loss: 3.5406 - accuracy: 0.1210 - val_loss: 2.3188 - val_accuracy: 0.3328\n",
            "Epoch 2/10\n",
            "86/86 [==============================] - 55s 633ms/step - loss: 1.5996 - accuracy: 0.5139 - val_loss: 1.1193 - val_accuracy: 0.6349\n",
            "Epoch 3/10\n",
            "86/86 [==============================] - 54s 632ms/step - loss: 0.8725 - accuracy: 0.7199 - val_loss: 0.9052 - val_accuracy: 0.7155\n",
            "Epoch 4/10\n",
            "86/86 [==============================] - 54s 631ms/step - loss: 0.5607 - accuracy: 0.8284 - val_loss: 0.7202 - val_accuracy: 0.7727\n",
            "Epoch 5/10\n",
            "86/86 [==============================] - 55s 633ms/step - loss: 0.4457 - accuracy: 0.8508 - val_loss: 0.6737 - val_accuracy: 0.7903\n",
            "Epoch 6/10\n",
            "86/86 [==============================] - 54s 631ms/step - loss: 0.3752 - accuracy: 0.8779 - val_loss: 0.7742 - val_accuracy: 0.7977\n",
            "Epoch 7/10\n",
            "86/86 [==============================] - 54s 630ms/step - loss: 0.3909 - accuracy: 0.8717 - val_loss: 0.7883 - val_accuracy: 0.7845\n",
            "Epoch 8/10\n",
            "86/86 [==============================] - 54s 627ms/step - loss: 0.3158 - accuracy: 0.8944 - val_loss: 0.7581 - val_accuracy: 0.7830\n",
            "Epoch 9/10\n",
            "86/86 [==============================] - 54s 628ms/step - loss: 0.2593 - accuracy: 0.9142 - val_loss: 0.6962 - val_accuracy: 0.8270\n",
            "Epoch 10/10\n",
            "86/86 [==============================] - 54s 628ms/step - loss: 0.2544 - accuracy: 0.9087 - val_loss: 0.7355 - val_accuracy: 0.8079\n"
          ]
        },
        {
          "output_type": "execute_result",
          "data": {
            "text/plain": [
              "<keras.callbacks.History at 0x7fca0030b850>"
            ]
          },
          "metadata": {},
          "execution_count": 18
        }
      ]
    },
    {
      "cell_type": "code",
      "source": [
        "model1.evaluate(test,batch_size=128)"
      ],
      "metadata": {
        "colab": {
          "base_uri": "https://localhost:8080/"
        },
        "id": "4tUCzOa0ZlwP",
        "outputId": "96b86e7e-fb05-4f72-8aff-f24ed3039039"
      },
      "execution_count": 19,
      "outputs": [
        {
          "output_type": "stream",
          "name": "stdout",
          "text": [
            "22/22 [==============================] - 11s 487ms/step - loss: 0.7355 - accuracy: 0.8079\n"
          ]
        },
        {
          "output_type": "execute_result",
          "data": {
            "text/plain": [
              "[0.7354844808578491, 0.8079178929328918]"
            ]
          },
          "metadata": {},
          "execution_count": 19
        }
      ]
    },
    {
      "cell_type": "code",
      "source": [
        ""
      ],
      "metadata": {
        "id": "E2RIqwtISusL"
      },
      "execution_count": null,
      "outputs": []
    }
  ],
  "metadata": {
    "colab": {
      "collapsed_sections": [],
      "name": "Handwritten_Recognition.ipynb",
      "provenance": [],
      "include_colab_link": true
    },
    "kernelspec": {
      "display_name": "Python 3 (ipykernel)",
      "language": "python",
      "name": "python3"
    },
    "language_info": {
      "codemirror_mode": {
        "name": "ipython",
        "version": 3
      },
      "file_extension": ".py",
      "mimetype": "text/x-python",
      "name": "python",
      "nbconvert_exporter": "python",
      "pygments_lexer": "ipython3",
      "version": "3.9.9"
    }
  },
  "nbformat": 4,
  "nbformat_minor": 0
}